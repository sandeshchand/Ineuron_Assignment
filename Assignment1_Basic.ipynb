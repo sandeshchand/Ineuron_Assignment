{
 "cells": [
  {
   "cell_type": "code",
   "execution_count": 1,
   "metadata": {},
   "outputs": [
    {
     "name": "stdout",
     "output_type": "stream",
     "text": [
      "Hello Python\n"
     ]
    }
   ],
   "source": [
    "#program to print \"Hello Python\"\n",
    "print(\"Hello Python\")"
   ]
  },
  {
   "cell_type": "code",
   "execution_count": 11,
   "metadata": {},
   "outputs": [
    {
     "name": "stdout",
     "output_type": "stream",
     "text": [
      "Enter first number:5000\n",
      "Enter second number:30\n",
      "Please enter the addition or division operator:*\n",
      "Operator not found\n"
     ]
    }
   ],
   "source": [
    "#program to do arithmetical operations addition and division\n",
    "num1=int(input(\"Enter first number:\"))\n",
    "num2=int(input(\"Enter second number:\"))\n",
    "operator=input(\"Please enter the addition or division operator:\")\n",
    "if(operator=='+'):\n",
    "    print(\"The summation of two number is {}\".format(num1+num2))\n",
    "elif(operator=='//'):\n",
    "    print(\"The divison of two number is {}\".format(num1//num2))\n",
    "else:\n",
    "    print('Operator not found')"
   ]
  },
  {
   "cell_type": "code",
   "execution_count": 41,
   "metadata": {},
   "outputs": [
    {
     "name": "stdout",
     "output_type": "stream",
     "text": [
      "****Calculate the area of the triangle****\n",
      "Please enter the sidea of the triangle5\n",
      "Please enter the sideb of the triangle10\n",
      "Please enter the sidec of the triangle7\n",
      "The area of the triangle is 16.248\n"
     ]
    }
   ],
   "source": [
    "import math\n",
    "#program to find the area of a triangle\n",
    "print('****Calculate the area of the triangle****')\n",
    "sidea=float(input(\"Please enter the sidea of the triangle\"))\n",
    "sideb=float(input(\"Please enter the sideb of the triangle\"))\n",
    "sidec=float(input(\"Please enter the sidec of the triangle\"))\n",
    "semiperimeter=(sidea+sideb+sidec)/2\n",
    "\n",
    "area=((semiperimeter*(semiperimeter-sidea)*(semiperimeter-sideb)*(semiperimeter-sidec)))**0.5\n",
    "print(\"The area of the triangle is {:.3f}\".format(area))"
   ]
  },
  {
   "cell_type": "code",
   "execution_count": 49,
   "metadata": {},
   "outputs": [
    {
     "name": "stdout",
     "output_type": "stream",
     "text": [
      "Before Swapping\n",
      "Please enter the number:80\n",
      "Please enter the number:40\n",
      "The  value of var1 and var2 before swapping is 80 and 40\n",
      "The  value of var1 and var2 after swapping  is 40 and 80\n"
     ]
    }
   ],
   "source": [
    "#program to swap two variables\n",
    "print(\"Before Swapping\")\n",
    "var1=int(input(\"Please enter the number:\"))\n",
    "var2=int(input(\"Please enter the number:\"))\n",
    "print(\"The  value of var1 and var2 before swapping is {} and {}\".format(var1,var2))\n",
    "temp=var1\n",
    "var1=var2\n",
    "var2=temp\n",
    "print(\"The  value of var1 and var2 after swapping  is {} and {}\".format(var1,var2))\n"
   ]
  },
  {
   "cell_type": "code",
   "execution_count": 61,
   "metadata": {},
   "outputs": [
    {
     "name": "stdout",
     "output_type": "stream",
     "text": [
      "[67, 24, 38, 85, 88, 93, 25, 21, 89, 41]\n"
     ]
    }
   ],
   "source": [
    "#program to generate a random number\n",
    "import random\n",
    "randnum=[]\n",
    "for i in range(0,10):\n",
    "    number =random.randint(1,100)\n",
    "    randnum.append(number)\n",
    "print(randnum)"
   ]
  },
  {
   "cell_type": "code",
   "execution_count": null,
   "metadata": {},
   "outputs": [],
   "source": []
  }
 ],
 "metadata": {
  "kernelspec": {
   "display_name": "Python 3",
   "language": "python",
   "name": "python3"
  },
  "language_info": {
   "codemirror_mode": {
    "name": "ipython",
    "version": 3
   },
   "file_extension": ".py",
   "mimetype": "text/x-python",
   "name": "python",
   "nbconvert_exporter": "python",
   "pygments_lexer": "ipython3",
   "version": "3.8.5"
  }
 },
 "nbformat": 4,
 "nbformat_minor": 4
}
