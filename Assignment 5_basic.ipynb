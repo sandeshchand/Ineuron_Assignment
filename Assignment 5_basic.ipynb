{
 "cells": [
  {
   "cell_type": "code",
   "execution_count": 1,
   "metadata": {},
   "outputs": [
    {
     "name": "stdout",
     "output_type": "stream",
     "text": [
      "Please enter three numbers:5 10 15\n",
      "Lcm of three number is 30\n"
     ]
    }
   ],
   "source": [
    "#Python Program to Find LCM\n",
    "\n",
    "def lcm(a,b,c):\n",
    "    if a >b and a>c:\n",
    "        greater=a\n",
    "    elif(b>c):\n",
    "        greater=b\n",
    "    else:\n",
    "        greater=c\n",
    "    while(True):\n",
    "        if((greater%a==0)and(greater%b==0)and(greater%c==0)):\n",
    "            lcm=greater\n",
    "            break\n",
    "        greater +=1\n",
    "    return lcm\n",
    "    \n",
    "\n",
    "num1,num2,num3=map(int,input(\"Please enter three numbers:\").split())\n",
    "#print(int(num1),int(num2),int(num3))\n",
    "print(\"Lcm of three number is {}\".format(lcm(num1,num2,num3)))\n"
   ]
  },
  {
   "cell_type": "code",
   "execution_count": 3,
   "metadata": {},
   "outputs": [
    {
     "name": "stdout",
     "output_type": "stream",
     "text": [
      "Please enter three numbers:5 10 15\n",
      "HCF of three number is 5\n"
     ]
    }
   ],
   "source": [
    "#Python Program to Find HCF\n",
    "\n",
    "def hcf(num1,num2,num3):\n",
    "    if num1 < num2 and num1 < num3:\n",
    "        smaller=num1\n",
    "    elif(num2<num3):\n",
    "        smaller=num2\n",
    "    else:\n",
    "        smaller=num3\n",
    "    if((num1%smaller==0)and(num2%smaller==0)and(num3%smaller==0)):\n",
    "        hcf=smaller\n",
    "            \n",
    "    return hcf\n",
    "    \n",
    "\n",
    "num_a,num_b,num_c=map(int,input(\"Please enter three numbers:\").split())\n",
    "#print(int(num1),int(num2),int(num3))\n",
    "print(\"HCF of three number is {}\".format(hcf(num_a,num_b,num_c)))\n"
   ]
  },
  {
   "cell_type": "code",
   "execution_count": 6,
   "metadata": {},
   "outputs": [
    {
     "name": "stdout",
     "output_type": "stream",
     "text": [
      "Please enter the decimal number:11\n",
      "The binary of 11 is 0b1011 \n",
      "The Octal of 11 is 0o13 \n",
      "The Hexadecimal of 11 is 0xb \n"
     ]
    }
   ],
   "source": [
    "#Program to Convert Decimal to Binary, Octal and Hexadecimal\n",
    "decimal=int(input('Please enter the decimal number:'))\n",
    "print('The binary of {} is {} '.format(decimal,bin(decimal)))\n",
    "print('The Octal of {} is {} '.format(decimal,oct(decimal)))\n",
    "print('The Hexadecimal of {} is {} '.format(decimal,hex(decimal)))\n",
    "\n"
   ]
  },
  {
   "cell_type": "code",
   "execution_count": 25,
   "metadata": {},
   "outputs": [
    {
     "name": "stdout",
     "output_type": "stream",
     "text": [
      "Please enter a characterf\n",
      "The ASCII value of character a is 102\n"
     ]
    }
   ],
   "source": [
    "\n",
    "#Program To Find ASCII value of a character\n",
    "\n",
    "char= input('Please enter a character ')\n",
    "print(\"The ASCII value of character a is {}\".format(ord(char)))"
   ]
  },
  {
   "cell_type": "code",
   "execution_count": 52,
   "metadata": {},
   "outputs": [
    {
     "name": "stdout",
     "output_type": "stream",
     "text": [
      "Please enter two numbers 5 10\n",
      "Please enter the operator \n",
      " 1.+\n",
      " 2.*\n",
      " 3.-\n",
      " 4./\n",
      "Please enter the number from 1 - 4 2\n",
      " Multiplication Operation\n",
      "The calulator output is 50\n"
     ]
    }
   ],
   "source": [
    "#Program to Make a Simple Calculator with 4 basic mathematical operations\n",
    "def calculator(a,b,mark):\n",
    "    if(mark=='1'):\n",
    "        print(\" Addition Operation\")\n",
    "        return(a+b)\n",
    "    elif(mark=='2'):\n",
    "        print(\" Multiplication Operation\")\n",
    "        return a*b\n",
    "    \n",
    "    elif(mark=='3'):\n",
    "        print(\" Substraction Operation\")\n",
    "1\n",
    "        if(a<b):\n",
    "            return b-a\n",
    "        else:\n",
    "            return a-b\n",
    "    elif(mark=='4'):\n",
    "        print(\" Division Operation\")\n",
    "\n",
    "        return a/b\n",
    "    else:\n",
    "        print(\"Error\")\n",
    "    \n",
    "    \n",
    "    \n",
    "    \n",
    "    \n",
    " \n",
    "number1,number2=map(int,input('Please enter two numbers ').split())\n",
    "print(\"Please enter the operator \\n 1.+\\n 2.*\\n 3.-\\n 4./\")\n",
    "operator=input(\"Please enter the number from 1 - 4 \")\n",
    "\n",
    "\n",
    "final_Value=calculator(number1,number2,operator)\n",
    "print(\"The calulator output is {}\".format(final_Value))\n",
    "\n"
   ]
  }
 ],
 "metadata": {
  "kernelspec": {
   "display_name": "Python 3",
   "language": "python",
   "name": "python3"
  },
  "language_info": {
   "codemirror_mode": {
    "name": "ipython",
    "version": 3
   },
   "file_extension": ".py",
   "mimetype": "text/x-python",
   "name": "python",
   "nbconvert_exporter": "python",
   "pygments_lexer": "ipython3",
   "version": "3.8.5"
  }
 },
 "nbformat": 4,
 "nbformat_minor": 4
}
