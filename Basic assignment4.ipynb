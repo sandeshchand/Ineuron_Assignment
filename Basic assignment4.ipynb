{
 "cells": [
  {
   "cell_type": "code",
   "execution_count": 1,
   "metadata": {},
   "outputs": [],
   "source": [
    "#1.Program to Find the Factorial of a Number\n",
    "#number=int(input(\"Please enter the number:\"))\n",
    "def factorial(num):\n",
    "    if num==1:\n",
    "        return 1\n",
    "    else:\n",
    "        factor=1\n",
    "        while(num >1):\n",
    "            factor*=num\n",
    "            num-=1\n",
    "        return factor\n",
    "\n",
    "        "
   ]
  },
  {
   "cell_type": "code",
   "execution_count": 3,
   "metadata": {},
   "outputs": [
    {
     "name": "stdout",
     "output_type": "stream",
     "text": [
      "Please enter the number: 5\n",
      "Factorial of 5 is 120\n"
     ]
    }
   ],
   "source": [
    "number=int(input(\"Please enter the number: \"))\n",
    "print(\"Factorial of {} is {}\".format(number,factorial(number)))\n"
   ]
  },
  {
   "cell_type": "code",
   "execution_count": 12,
   "metadata": {},
   "outputs": [
    {
     "name": "stdout",
     "output_type": "stream",
     "text": [
      "Please enter the number: 5\n",
      "Multiplication of 5*1 = 5\n",
      "Multiplication of 5*2 = 10\n",
      "Multiplication of 5*3 = 15\n",
      "Multiplication of 5*4 = 20\n",
      "Multiplication of 5*5 = 25\n",
      "Multiplication of 5*6 = 30\n",
      "Multiplication of 5*7 = 35\n",
      "Multiplication of 5*8 = 40\n",
      "Multiplication of 5*9 = 45\n",
      "Multiplication of 5*10 = 50\n"
     ]
    }
   ],
   "source": [
    "#Program to Display the multiplication Table\n",
    "def multi(num):\n",
    "    for i in range(1,11):\n",
    "        #print(i)\n",
    "        product=num*i\n",
    "        print(\"Multiplication of {}*{} = {}\".format(num,i,product))\n",
    "        \n",
    "numb=int(input(\"Please enter the number: \"))\n",
    "multi(numb)\n",
    "#print(\"Multiplication of {} is {}\".format(numb,factorial(numb)))\n"
   ]
  },
  {
   "cell_type": "code",
   "execution_count": 26,
   "metadata": {},
   "outputs": [
    {
     "name": "stdout",
     "output_type": "stream",
     "text": [
      "Please enter the terms: 10\n",
      "Fibonacci series of 10 terms \n",
      "0 1 1 2 3 5 8 13 21 34 "
     ]
    }
   ],
   "source": [
    "#Program to Print the Fibonacci sequence\n",
    "n1=0\n",
    "n2=1\n",
    "terms=int(input('Please enter the terms: '))\n",
    "#print(n1,n2)\n",
    "counter=0\n",
    "if(terms==1 or terms==2):\n",
    "    print(n1,n2)\n",
    "else:\n",
    "    print(\"Fibonacci series of {} terms \".format(terms))\n",
    "    while (counter< terms):\n",
    "        print(n1,end= \" \")\n",
    "        newnum=n1+n2\n",
    "        #print(newnum)\n",
    "        n1=n2\n",
    "        n2=newnum\n",
    "        counter+=1\n",
    "    "
   ]
  },
  {
   "cell_type": "code",
   "execution_count": 33,
   "metadata": {},
   "outputs": [
    {
     "name": "stdout",
     "output_type": "stream",
     "text": [
      "Enter the number:613\n",
      "613 is not an Armstrong number\n"
     ]
    }
   ],
   "source": [
    "#Program to Check Armstrong Number\n",
    "number=int(input(\"Enter the number:\"))\n",
    "order=len(str(number))\n",
    "temp=number\n",
    "sum=0\n",
    "while(temp>0):\n",
    "    digit=temp%10\n",
    "    sum+=digit**order\n",
    "    temp=temp//10\n",
    "if number==sum:\n",
    "    print(\"{} is an Armstrong number\".format(number))\n",
    "else:\n",
    "    print(\"{} is not an Armstrong number\".format(number))\n",
    "    \n"
   ]
  },
  {
   "cell_type": "code",
   "execution_count": 46,
   "metadata": {},
   "outputs": [
    {
     "name": "stdout",
     "output_type": "stream",
     "text": [
      "Enter the number 1st number :150\n",
      "Enter the number last number155\n",
      "150 is not an Armstrong number\n",
      "151 is not an Armstrong number\n",
      "152 is not an Armstrong number\n",
      "153 is an Armstrong number\n",
      "154 is not an Armstrong number\n"
     ]
    }
   ],
   "source": [
    "#5Program to Find Armstrong Number in an Interval\n",
    "num1=int(input(\"Enter the number 1st number :\"))\n",
    "num2=int(input(\"Enter the number last number\"))\n",
    "for numrange in range(num1,num2):\n",
    "   # print(numrange)\n",
    "    temp=numrange\n",
    "    order=len(str(temp))\n",
    "    sum=0\n",
    "    while(temp>0):\n",
    "        digit=temp%10\n",
    "        sum+=digit**order\n",
    "        temp=temp//10\n",
    "    if numrange==sum:\n",
    "        print(\"{} is an Armstrong number\".format(numrange))\n",
    "    else:\n",
    "        print(\"{} is not an Armstrong number\".format(numrange))\n",
    "\n",
    "\n",
    "\n",
    "\n",
    "    #print(numrange)"
   ]
  },
  {
   "cell_type": "code",
   "execution_count": 57,
   "metadata": {},
   "outputs": [
    {
     "name": "stdout",
     "output_type": "stream",
     "text": [
      "Enter the value of n: 100\n",
      "Sum of first 100 natural numbers is: 5050\n"
     ]
    }
   ],
   "source": [
    "#Program to Find the Sum of Natural Numbers\n",
    "natnumber = int(input(\"Enter the value of n: \"))\n",
    "tmp = natnumber\n",
    "sum = 0\n",
    "if natnumber <= 0: \n",
    "    print(\"Please enter a whole positive number!\") \n",
    "else: \n",
    "    while natnumber > 0:\n",
    "        sum = sum + natnumber\n",
    "        natnumber = natnumber - 1;\n",
    "    # displaying output\n",
    "    print(\"Sum of first {} natural numbers is: {}\".format(tmp, sum))"
   ]
  },
  {
   "cell_type": "code",
   "execution_count": null,
   "metadata": {},
   "outputs": [],
   "source": []
  }
 ],
 "metadata": {
  "kernelspec": {
   "display_name": "Python 3",
   "language": "python",
   "name": "python3"
  },
  "language_info": {
   "codemirror_mode": {
    "name": "ipython",
    "version": 3
   },
   "file_extension": ".py",
   "mimetype": "text/x-python",
   "name": "python",
   "nbconvert_exporter": "python",
   "pygments_lexer": "ipython3",
   "version": "3.8.5"
  }
 },
 "nbformat": 4,
 "nbformat_minor": 4
}
