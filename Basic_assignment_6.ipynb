{
 "cells": [
  {
   "cell_type": "code",
   "execution_count": null,
   "metadata": {},
   "outputs": [],
   "source": [
    "#Program to Display Fibonacci Sequence Using Recursion\n",
    "def fibo(terms):\n",
    "    if terms <=1:\n",
    "        return terms\n",
    "    else:\n",
    "        return(fibo(terms-1)+fibo(terms-2))\n",
    "\n",
    "nterms=int(input('Please enter the terms: '))\n",
    "for i in range(nterms):\n",
    "    print(fibo(i))\n"
   ]
  },
  {
   "cell_type": "code",
   "execution_count": null,
   "metadata": {},
   "outputs": [],
   "source": [
    "#Python Program to Find Factorial of Number Using Recursion\n",
    "def factorial(n):\n",
    "    if n==1:\n",
    "        return n\n",
    "    else:\n",
    "        return n*factorial(n-1)\n",
    "    \n",
    "number=int(input('Please enter the number:'))\n",
    "print(factorial(number))\n"
   ]
  },
  {
   "cell_type": "code",
   "execution_count": 4,
   "metadata": {},
   "outputs": [
    {
     "name": "stdout",
     "output_type": "stream",
     "text": [
      "Please enter your height in cm :180\n",
      "Please enter your weight in kg:86\n",
      "Your body mass index is 243.37\n"
     ]
    }
   ],
   "source": [
    "#Program to calculate your Body Mass Index\n",
    "METER=100\n",
    "height=float(input(\"Please enter your height in cm :\"))\n",
    "weight=float(input(\"Please enter your weight in kg:\"))\n",
    "weight_m=weight/METER\n",
    "print(\"Your body mass index is {:.2f}\".format((height/(weight_m*weight_m))))"
   ]
  },
  {
   "cell_type": "code",
   "execution_count": 5,
   "metadata": {},
   "outputs": [
    {
     "name": "stdout",
     "output_type": "stream",
     "text": [
      "Please enter the number: 10\n",
      "Natural log of 10 is 2.302585092994046\n"
     ]
    }
   ],
   "source": [
    "#Program to calculate the natural logarithm of any number\n",
    "import math\n",
    "number=int(input(\"Please enter the number: \"))\n",
    "print(\"Natural log of {} is {}\".format(number,math.log(number)))"
   ]
  },
  {
   "cell_type": "code",
   "execution_count": 15,
   "metadata": {},
   "outputs": [
    {
     "name": "stdout",
     "output_type": "stream",
     "text": [
      "Please enter the number5\n",
      "The cube sum of 5 is 225 \n"
     ]
    }
   ],
   "source": [
    "#Program for cube sum of first n natural numbers\n",
    "def cubesum(n):\n",
    "    sum=0\n",
    "    for i in range(1,n+1):\n",
    "        #print(i**3)\n",
    "        sum+=i**3\n",
    "        #print(sum)\n",
    "    return sum\n",
    "\n",
    "\n",
    "\n",
    "number=int(input('Please enter the number'))\n",
    "print(\"The cube sum of {} is {} \".format(number,cubesum(number)))"
   ]
  },
  {
   "cell_type": "code",
   "execution_count": null,
   "metadata": {},
   "outputs": [],
   "source": []
  },
  {
   "cell_type": "code",
   "execution_count": null,
   "metadata": {},
   "outputs": [],
   "source": []
  }
 ],
 "metadata": {
  "kernelspec": {
   "display_name": "Python 3",
   "language": "python",
   "name": "python3"
  },
  "language_info": {
   "codemirror_mode": {
    "name": "ipython",
    "version": 3
   },
   "file_extension": ".py",
   "mimetype": "text/x-python",
   "name": "python",
   "nbconvert_exporter": "python",
   "pygments_lexer": "ipython3",
   "version": "3.8.5"
  }
 },
 "nbformat": 4,
 "nbformat_minor": 4
}
