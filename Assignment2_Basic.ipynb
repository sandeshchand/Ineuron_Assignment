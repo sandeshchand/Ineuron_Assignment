{
 "cells": [
  {
   "cell_type": "code",
   "execution_count": 6,
   "metadata": {},
   "outputs": [
    {
     "name": "stdout",
     "output_type": "stream",
     "text": [
      "Please enter the distance in km :50\n",
      "The coversion of distance(km) in miles is 31.0700\n"
     ]
    }
   ],
   "source": [
    "#program to convert kilometers to miles\n",
    "km=float(input('Please enter the distance in km :'))\n",
    "factor=0.6214\n",
    "print(\"The coversion of distance(km) in miles is {:.4f}\".format(km*factor))"
   ]
  },
  {
   "cell_type": "code",
   "execution_count": 7,
   "metadata": {},
   "outputs": [
    {
     "name": "stdout",
     "output_type": "stream",
     "text": [
      "Please enter the temperature in celsius32\n",
      "The temperaure in Fahrenheit is 89.600 \n"
     ]
    }
   ],
   "source": [
    "#program to convert Celsius to Fahrenheit\n",
    "celsius=float(input(\"Please enter the temperature in celsius\"))\n",
    "fahrenheit=(celsius * 1.8)+ 32\n",
    "print(\"The temperaure in Fahrenheit is {:.3f} \".format(fahrenheit))"
   ]
  },
  {
   "cell_type": "code",
   "execution_count": 11,
   "metadata": {},
   "outputs": [
    {
     "name": "stdout",
     "output_type": "stream",
     "text": [
      "Please enter the desire year : 1987\n",
      "Please enter the desire month :07\n",
      "     July 1987\n",
      "Mo Tu We Th Fr Sa Su\n",
      "       1  2  3  4  5\n",
      " 6  7  8  9 10 11 12\n",
      "13 14 15 16 17 18 19\n",
      "20 21 22 23 24 25 26\n",
      "27 28 29 30 31\n",
      "\n"
     ]
    }
   ],
   "source": [
    "#program to display calendar\n",
    "import calendar\n",
    "year=int(input(\"Please enter the desire year : \"))\n",
    "month=int(input(\"Please enter the desire month :\"))\n",
    "print(calendar.month(year,month))"
   ]
  },
  {
   "cell_type": "code",
   "execution_count": 25,
   "metadata": {},
   "outputs": [
    {
     "name": "stdout",
     "output_type": "stream",
     "text": [
      "***Quadratic equation***\n",
      "Enter first cofficient: 5\n",
      "Enter second cofficient: 6\n",
      "Enter third cofficient: 7\n",
      "Quadratic equation is 5*x**2+ 6*x + 7\n",
      "The two differnt real roots are 0.4198039027185569,-1.619803902718557\n"
     ]
    }
   ],
   "source": [
    "\n",
    "#program to solve quadratic equation\n",
    "import math\n",
    "print(\"***Quadratic equation***\")\n",
    "   \n",
    "\n",
    "def quad(a,b,c):\n",
    "    #print(coef1,coef2,coef3)\n",
    "    coeff=math.sqrt(abs(b**2-4*a*c))\n",
    "    \n",
    "    if coeff > 0:\n",
    "        x1=(-b + coeff)/(2*a)\n",
    "        x2=(-b - coeff)/(2*a)\n",
    "        print(\"The two differnt real roots are {},{}\".format(x1,x2))\n",
    "    elif coeff== 0:\n",
    "        x3=(-b/(2*a))\n",
    "        print(\"The real root is {}\".format(x3))\n",
    "    else:\n",
    "        img1=(-b/(2*a),\" + i\",coeff)\n",
    "        img2=(-b/(2*a),\" -i\",coeff)\n",
    "    \n",
    "    \n",
    "    \n",
    "    \n",
    "a=int(input(\"Enter first cofficient: \"))\n",
    "b=int(input(\"Enter second cofficient: \"))\n",
    "c=int(input(\"Enter third cofficient: \"))\n",
    "print(\"Quadratic equation is {}*x**2+ {}*x + {}\".format(a,b, c))\n",
    "quad(a,b,c)    \n"
   ]
  },
  {
   "cell_type": "code",
   "execution_count": 31,
   "metadata": {},
   "outputs": [
    {
     "name": "stdout",
     "output_type": "stream",
     "text": [
      "Before Swapping\n",
      "Please input first number num1 :111\n",
      "Please input second number num2:555\n",
      "After Swapping two variables\n",
      "num2 : 111\n",
      "num1 : 555\n"
     ]
    }
   ],
   "source": [
    "#program to swap two variables without temp variable\n",
    "\n",
    "print(\"Before Swapping\")\n",
    "num1=int(input(\"Please input first number num1 :\"))\n",
    "num2=int(input(\"Please input second number num2:\"))\n",
    "num1=num1+num2\n",
    "\n",
    "print(\"After Swapping two variables\")\n",
    "#print(\"num1 :\",num1)\n",
    "num2=num1-num2\n",
    "\n",
    "print(\"num2 :\",num2)\n",
    "num1=num1-num2\n",
    "print(\"num1 :\",num1)\n",
    "    "
   ]
  },
  {
   "cell_type": "code",
   "execution_count": null,
   "metadata": {},
   "outputs": [],
   "source": []
  }
 ],
 "metadata": {
  "kernelspec": {
   "display_name": "Python 3",
   "language": "python",
   "name": "python3"
  },
  "language_info": {
   "codemirror_mode": {
    "name": "ipython",
    "version": 3
   },
   "file_extension": ".py",
   "mimetype": "text/x-python",
   "name": "python",
   "nbconvert_exporter": "python",
   "pygments_lexer": "ipython3",
   "version": "3.8.5"
  }
 },
 "nbformat": 4,
 "nbformat_minor": 4
}
